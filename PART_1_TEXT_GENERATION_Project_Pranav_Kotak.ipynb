{
  "nbformat": 4,
  "nbformat_minor": 0,
  "metadata": {
    "accelerator": "GPU",
    "colab": {
      "name": "DL_PART_1_TEXT_GENERATION_Project_Pranav_Kotak.ipynb",
      "provenance": [],
      "collapsed_sections": []
    },
    "kernelspec": {
      "display_name": "Python 3",
      "name": "python3"
    }
  },
  "cells": [
    {
      "cell_type": "markdown",
      "metadata": {
        "id": "NHkvK9jBfsOv"
      },
      "source": [
        "### **DL_PART_1_TEXT_GENERATION**"
      ]
    },
    {
      "cell_type": "markdown",
      "metadata": {
        "id": "3L9Q-exdfdFE"
      },
      "source": [
        "TWITTER SCRAPING PART "
      ]
    },
    {
      "cell_type": "code",
      "metadata": {
        "id": "GL6JOEbxKkzG"
      },
      "source": [
        "class TwitterClient(object): \n",
        "    def __init__(self): \n",
        "        #Initialization method. \n",
        "        consumer_key='D5CvS7MrSfSoigFQFkQ5sioi4'\n",
        "        consumer_secret='ci9IHZPJ2l8oX4rIolOzv359sq7iQ5vPVGuVHJW96IWIT3nyzD'\n",
        "        access_token='165879850-d6GPXrp2nhM6qJG2lKleOcCJSZRhED435N8sgxD8'\n",
        "        access_token_secret='kQsvtXf5pajEiqT6L2HOpxN9BYakrWDOHmsMKo0C6j18U'\n",
        "        try: \n",
        "            auth = OAuthHandler(consumer_key, consumer_secret) \n",
        "            auth.set_access_token(access_token, access_token_secret) \n",
        "            self.api = tweepy.API(auth, wait_on_rate_limit=True, wait_on_rate_limit_notify=True)\n",
        "            \n",
        "        except tweepy.TweepError as e:\n",
        "            print(f\"Error: Tweeter Authentication Failed - \\n{str(e)}\")\n",
        "\n",
        "    def get_tweets(self, query, maxTweets = 1000):\n",
        "        tweets = [] \n",
        "        sinceId = None\n",
        "        max_id = -1\n",
        "        tweetCount = 0\n",
        "        tweetsPerQry = 100\n",
        "\n",
        "        while tweetCount < maxTweets:\n",
        "            try:\n",
        "                if (max_id <= 0):\n",
        "                    if (not sinceId):\n",
        "                        new_tweets = self.api.search(q=query, count=tweetsPerQry)\n",
        "                    else:\n",
        "                        new_tweets = self.api.search(q=query, count=tweetsPerQry,\n",
        "                                                since_id=sinceId)\n",
        "                else:\n",
        "                    if (not sinceId):\n",
        "                        new_tweets = self.api.search(q=query, count=tweetsPerQry,\n",
        "                                                max_id=str(max_id - 1))\n",
        "                    else:\n",
        "                        new_tweets = self.api.search(q=query, count=tweetsPerQry,\n",
        "                                                max_id=str(max_id - 1),\n",
        "                                                since_id=sinceId)\n",
        "                if not new_tweets:\n",
        "                    print(\"No more tweets found\")\n",
        "                    break\n",
        "\n",
        "                for tweet in new_tweets:\n",
        "                    parsed_tweet = {} \n",
        "                    parsed_tweet['tweets'] = tweet.text \n",
        "\n",
        "                    # appending parsed tweet to tweets list\n",
        "                    if tweet.retweet_count > 0: \n",
        "                        # if tweet has retweets, ensure that it is appended only once \n",
        "                        if parsed_tweet not in tweets: \n",
        "                            tweets.append(parsed_tweet) \n",
        "                    else: \n",
        "                        tweets.append(parsed_tweet) \n",
        "                        \n",
        "                tweetCount += len(new_tweets)\n",
        "                print(\"Downloaded {0} tweets\".format(tweetCount))\n",
        "                max_id = new_tweets[-1].id\n",
        "\n",
        "            except tweepy.TweepError as e:\n",
        "                # Just exit if any error\n",
        "                print(\"Tweepy error : \" + str(e))\n",
        "                break\n",
        "        \n",
        "        return pd.DataFrame(tweets)"
      ],
      "execution_count": 1,
      "outputs": []
    },
    {
      "cell_type": "code",
      "metadata": {
        "colab": {
          "base_uri": "https://localhost:8080/"
        },
        "id": "83mfhDL5KP1F",
        "outputId": "fdbd1a15-78b9-4e2b-b3e2-93e3fb6708e6"
      },
      "source": [
        "import tweepy\n",
        "import csv\n",
        "#Twitter API credentials\n",
        "consumer_key='D5CvS7MrSfSoigFQFkQ5sioi4'\n",
        "consumer_secret='ci9IHZPJ2l8oX4rIolOzv359sq7iQ5vPVGuVHJW96IWIT3nyzD'\n",
        "access_token='165879850-d6GPXrp2nhM6qJG2lKleOcCJSZRhED435N8sgxD8'\n",
        "access_token_secret='kQsvtXf5pajEiqT6L2HOpxN9BYakrWDOHmsMKo0C6j18U'\n",
        "# Authorize our Twitter credentials\n",
        "auth = tweepy.OAuthHandler(consumer_key, consumer_secret)\n",
        "auth.set_access_token(access_token, access_token_secret)\n",
        "api = tweepy.API(auth)\n",
        "import pandas as pd\n",
        "userID = \"learnenglish\"\n",
        "tweets = api.user_timeline(screen_name=userID, \n",
        "                           count=200,\n",
        "                           include_rts = False,\n",
        "                           tweet_mode = 'extended'\n",
        "                           )\n",
        "for info in tweets[:5000]:\n",
        "     data=pd.DataFrame([info.full_text])\n",
        "     print(info.full_text)\n",
        "     print(\"\\n\")"
      ],
      "execution_count": null,
      "outputs": [
        {
          "output_type": "stream",
          "text": [
            "Do you know what is the difference between 'hand out' and 'handout'?  https://t.co/kRupkTxIbU #LearnEnglish #ESL #EAL\n",
            "\n",
            "\n",
            "There are a few different ways to pronounce 'ough' in English words. Read on to learn more. https://t.co/kCfj79BAoN #LearnEnglish #ESL #EAL\n",
            "\n",
            "\n",
            "Lawrence and Charlotte talk about their weekend and what’s happening in and around the office. #learnenglish #ESL #EAL https://t.co/HAgXaYm8an\n",
            "\n",
            "\n",
            "Here are some useful light idioms that you can use in everyday English.  https://t.co/TglcStlMbW #LearnEnglish #ESL #EAL\n",
            "\n",
            "\n",
            "Using who, whom, whose and who’s can be very confusing in English. We break down the confusion in this video. For a transcript: https://t.co/tlROkgwkYH #LearnEnglish #ESL #EAL https://t.co/nHOIe5GWUe\n",
            "\n",
            "\n",
            "In 1972, Australians had to learn a new way to describe the weather, when the Bureau of Meteorology changed to the metric system. This ABC News report explains the change in terms such as 'fahrenheit', to degrees 'celsius'. #learnenglish #ESL #EAL https://t.co/Ao79E5jzF3\n",
            "\n",
            "\n",
            "In this episode of Everyday English, take a look at how you can talk about the weather. #learnenglish #ESL #EAL\n",
            "MORE: https://t.co/Onhm6LI9jP https://t.co/mB72T2AFog\n",
            "\n",
            "\n",
            "COVID-19 has had a big impact on international students being able to come to Australia to study English and the Gold Coast region is no different. #learnenglish #ESL #EAL\n",
            "\n",
            "https://t.co/7FULDvgrjZ\n",
            "\n",
            "\n",
            "The word 'refuse' is pronounced differently when it is used as a verb and a noun. https://t.co/B2DuiFXsk3 #LearnEnglish #ESL #EAL\n",
            "\n",
            "\n",
            "There's some pretty wild weather in the east coast of Australia. So what causes floods and droughts in Australia, and how can you talk about them? On #worldmetday, find out more in the lesson below. #learnenglish #ESL #EAL\n",
            "https://t.co/f3butMB0X5\n",
            "\n",
            "\n",
            "Do you know how to pronounce English words that start with 'kn'? We share some useful rules. https://t.co/IHwTGyHelp #LearnEnglish #ESL #EAL\n",
            "\n",
            "\n",
            "'Record' is a homograph. It can be used as a verb and noun.  https://t.co/As1gf5q1vo #LearnEnglish #ESL #EAL\n",
            "\n",
            "\n",
            "Look back at an ABC News report from 1986, and how a community health program helped migrants to improve both their English, and their nutrition. #harmonyweek #learnenglish #ESL #EAL\n",
            "\n",
            "https://t.co/SERCU3nH1c\n",
            "\n",
            "\n",
            "Ferlin Setiasih from Indonesia shares about her experience of learning English.  https://t.co/rMJQk5KTRb #LearnEnglish #ESL #EAL\n",
            "\n",
            "\n",
            "They might look very similar and sound almost the same but beware of these words: emigrate vs immigrate and eminent vs imminent. Take a look at how you can remember them in this video. For a transcript and activity: https://t.co/Gm7u8qekOl #LearnEnglish #ESL #EAL https://t.co/sxtDuWa00f\n",
            "\n",
            "\n",
            "As we celebrate #harmonyweek in Australia, learn how to describe diversity and harmony in your community or country. #learnenglish #ESL #EAL\n",
            "https://t.co/dQpoJez5zE\n",
            "\n",
            "\n",
            "Bruna and Linette Basiaco talk about the advantages of knowing Italian and English, and reflect on being part of a multicultural household in Australia. #harmonyweek #learnenglish #ESL #EAL\n",
            "\n",
            "https://t.co/kywVjeESKL\n",
            "\n",
            "\n",
            "#Harmonyweek celebrates Australia's cultural diversity. It’s a wonderful opportunity to promote inclusiveness, respect and a sense of belonging for everyone. But EVERY day should be a day of harmony, writes @takumbudzi. #learnenglish #ESL #EAL\n",
            "https://t.co/s2kcM8al5B\n",
            "\n",
            "\n",
            "About a year ago, the \"alarming\" spread of COVID-19 drove the @WHO  to declare a pandemic. We asked @abcnews audiences to tell us when they realised things had changed. There were some sweet, shocking and strange responses. #learnenglish #ESL #EAL\n",
            "\n",
            "https://t.co/LJlczGQg28\n",
            "\n",
            "\n",
            "Schools around the country are recognising #harmonyweek – a time to celebrate Australia's cultural diversity and promote inclusiveness, respect and a sense of belonging for everyone. \n",
            "via @ABCEducationAU \n",
            "https://t.co/AFTJGpNVZw\n",
            "\n",
            "\n",
            "Bruna Basiaco migrated from Croatia to Australia in 1964 but she barely spoke much English then. Bruna and her husband Nelo brought their love for gardening along with them when they migrated to Australia. #learnenglish #ESL #EAL #harmonyweek\n",
            "\n",
            "https://t.co/hhzEMzik4u\n",
            "\n",
            "\n",
            "What are the different ways to talk about happiness? We're learning how to talk about our feelings.  https://t.co/kvwLy68ups #LearnEnglish #ESL #EAL\n",
            "\n",
            "\n",
            "ELT consultant @antoniaclare explains why learning a language can be scary for learners. But here's the good news: it's perfectly ok! #learnenglish #ESL #EAL https://t.co/3nDj7Jchzr\n",
            "\n",
            "\n",
            "The word 'close' can be pronounced in different ways when we're trying to convey different meanings. https://t.co/Mb1IHyMgcn #LearnEnglish #ESL #EAL\n",
            "\n",
            "\n",
            "Do you know the difference between rain, rein and reign? These are some of the most commonly confused homophones in the English language. Watch and listen to learn more. https://t.co/eItANgJO3L #LearnEnglish #ESL #EAL https://t.co/aqFMeDzsKH\n",
            "\n",
            "\n",
            "A volunteer school tuckshop program operating in Queensland's most diverse city is helping migrants and refugees gain confidence and settle into Australia's working culture. #learnenglish #ESL #EAL #CALD\n",
            "\n",
            "via @ABCbrisbane https://t.co/1aoVuCqRrN\n",
            "\n",
            "\n",
            "Explore life on the World Heritage-listed Lord Howe Island, which lies about 600 kilometres east of mainland Port Macquarie. Learn 10 important words and phrases from this news story. #learnenglish #ESL #EAL #englishinthenews\n",
            "https://t.co/qTjo5gRYZv\n",
            "\n",
            "\n",
            "Starting a conversation with someone you've just met can be difficult but these tips will help. https://t.co/5Jb4OCQmkm #LearnEnglish #ESL #EAL\n",
            "\n",
            "\n",
            "The word 'ball' is used in many non-sporting English expressions.  Read this article to learn more. https://t.co/paPEIWIgmG #LearnEnglish #ESL #EAL\n",
            "\n",
            "\n",
            "Meeting new people can be a challenge, so we've got some tips to help you start a conversation. https://t.co/YBGMU28i3G #LearnEnglish #ESL #EAL\n",
            "\n",
            "\n",
            "Gender-neutral language refers to words that do not identify a gender. Find out why this is important and how you can use inclusive terms when referring to people. #learnenglish #ESL #EAL #IWD2021\n",
            "\n",
            "https://t.co/IHV1hqfqsp\n",
            "\n",
            "\n",
            "Learning a new language can be challenging, scary and even messy. ELT consultant Antonia Clare explains why this is good for learners. #learnenglish #ESL #EAL https://t.co/pgPIY55FhX\n",
            "\n",
            "\n",
            "Do you know when to use 'a' and 'an'? Learn some rules about vowel sounds and consonant sounds. https://t.co/5htkD54tyG #LearnEnglish #ESL #EAL\n",
            "\n",
            "\n",
            "What's the difference between loose and lose? Are you lost when it comes to the differences between lose and loose? Don’t lose out! We explain the differences. MORE: https://t.co/x0CbeQo6z8 #LearnEnglish #ESL #EAL https://t.co/NiuAap8oZl\n",
            "\n",
            "\n",
            "A suffix is a letter or a group of letters that are added to the end of a word to make a new word. Learn more in this article.  https://t.co/L0XMfACW6Z #LearnEnglish #ESL #EAL\n",
            "\n",
            "\n",
            "Professor Roly Sussex explains why we're using many Latin words in everyday English and highlights some of the commonly used words. #learnenglish #ESL #EAL https://t.co/nnADyB3etq\n",
            "\n",
            "\n",
            "Australian house prices have posted their sharpest monthly increase in over 15 years, with further growth expected. Here are 10 important words from the news story. #Learnenglish #ESL #EAL\n",
            "https://t.co/Cy27wojp6L\n",
            "\n",
            "\n",
            "'So' is a very common word in English speech. Professor Roly Sussex answers a radio listener's question about it. #learnenglish #ESL #EAL https://t.co/m6iKljwQIG\n",
            "\n",
            "\n",
            "The word 'conflict' is pronounced differently when it is used as a verb and a noun. Read this article to learn more. https://t.co/nwUP08xeTx #LearnEnglish #ESL #EAL\n",
            "\n",
            "\n",
            "The letter H is sometimes pronounced, and sometimes it remains silent. Professor Roly Sussex explains the difference. #learnenglish #EAL #ESL https://t.co/lf6ZroizB6\n",
            "\n",
            "\n",
            "Do you know when to use 'was' and 'were'? In this lesson, we learn about these two verb forms. https://t.co/ZYzTTNpUe9 #LearnEnglish #ESL #EAL\n",
            "\n",
            "\n",
            "Australian English is full of similes. Professor Roly Sussex explains. #learnenglish #ESL #EAL https://t.co/OBxcqgkQ74\n",
            "\n",
            "\n",
            "Researchers explain why different accents are special and how this signals a person is multilingual. #learnenglish #ESL #EAL\n",
            "\n",
            "https://t.co/oP54Ygjf27\n",
            "\n",
            "\n",
            "The English words you hear in India may be a little different to Australia. Roly Sussex gives some examples. #learnenglish #ESL #EAL https://t.co/NjMX1wVfxT\n",
            "\n",
            "\n",
            "Learning a language takes time but there are some things you can do to improve your vocabulary.  https://t.co/lVDgxFYApG #LearnEnglish #ESL #EAL\n",
            "\n",
            "\n",
            "Members of the Learn English community share about their learning strategies and motivations. https://t.co/FmsngVhMMf #LearnEnglish #ESL #EAL\n",
            "\n",
            "\n",
            "How much did it cost to run a car in Australia in 1971? Watch and listen to the various numbers. It all adds up! #LearnEnglish #ESL #EAL #vocabulary https://t.co/kTESyZL54D\n",
            "\n",
            "\n",
            "What are adjective suffixes and how can you use them to make news words? We explain more in this lesson. #learnenglish #ESL #EAL\n",
            "\n",
            "https://t.co/vLr4kzuNHF\n",
            "\n",
            "\n",
            "We 'give you a hand' with these useful idioms related to asking for and offering help. https://t.co/T87t0X4shD #LearnEnglish #ESL #EAL\n",
            "\n",
            "\n",
            "What's the difference between threw, through and thorough? If you’re thrown off by how to spell and use threw, through and thorough correctly, we take a thorough look in this video. https://t.co/CTwROO4kDA #LearnEnglish #ESL #EAL https://t.co/40KsbW5XJr\n",
            "\n",
            "\n",
            "With NASA's Perseverance rover landing on Mars, it has recorded what it is like to land on another planet. Learn 10 important words from the news story. #learnenglish #ESL #EAL\n",
            "https://t.co/YUEG3aqX2p\n",
            "\n",
            "\n",
            "What do English speakers mean when they say 'time flies' or that they're 'in the nick of time'? https://t.co/6mn15cyrGp #LearnEnglish #ESL #EAL\n",
            "\n",
            "\n",
            "Linguist Professor Roly Sussex and a caller from Queensland discuss whether 'batsman' is an appropriate word for a female cricketer and how can sportspeople be addressed in a gender-neutral way. #EAL #ESL #LearnEnglish\n",
            "https://t.co/72Y42dYCSG\n",
            "\n",
            "\n",
            "Here are some expressions involving socks that you can use in everyday conversation. https://t.co/Rx9eYZN7Hv #LearnEnglish #ESL #EAL\n",
            "\n",
            "\n",
            "We pronounce 'the' differently when we use it with words that start with a consonant or vowel sound. https://t.co/T4jLazAyit #LearnEnglish #ESL #EAL\n",
            "\n",
            "\n",
            "This 1967 news report on the 'Echoscope' explains the new invention of what we now know as the medical ultrasound, and how it was set to revolutionize the medical field of obstetrics for doctors and mothers. #LearnEnglish #ESL #EAL https://t.co/OA03814Qki\n",
            "\n",
            "\n",
            "We asked people what helped them learn the language and they shared some of their favourite methods.  https://t.co/efkl9WlRTS #LearnEnglish #ESL #EAL\n",
            "\n",
            "\n",
            "In this lesson, find out about words and idioms related to driving. https://t.co/OdAR3rYnuO #LearnEnglish #ESL #EAL\n",
            "\n",
            "\n",
            "'Malaria' and 'quarantine' are two Italian words that we commonly use in English. Roly Sussex explains their origin. #LearnEnglish #ESL #EAL https://t.co/mOc1qa6dt0\n",
            "\n",
            "\n",
            "Do you know what a 'catnap' means? What about the expression 'something the cat dragged in'? https://t.co/EZo4mr1OQf #LearnEnglish #ESL #EAL\n",
            "\n",
            "\n",
            "Watching movies, reading news articles and listening to the radio are ways to learn English. What are you favourite ways to learn? https://t.co/LMavGsJfrW #LearnEnglish #ESL #EAL\n",
            "\n",
            "\n",
            "Do we use 'that' or 'who' to describe people and things? If you are confused, don't worry. Prof Roly Sussex can explain. Listen in and learn. #LearnEnglish #ESL #EAL https://t.co/VRRbiA4NyL\n",
            "\n",
            "\n",
            "We asked language learners why they think English is important. We asked language learners why they think English is important. https://t.co/kyp2Mln6sj  #LearnEnglish #ESL #EAL\n",
            "\n",
            "\n",
            "What does it mean to be a 'couch potato' or 'full of beans'? Let's learn about vegetable idioms! https://t.co/FYyYgccuEF #LearnEnglish #ESL #EAL\n",
            "\n",
            "\n",
            "Photocopiers are common in today's society, but in 1967 they were considered an exciting invention, set to revolutionise the office. Look back at the earliest versions of these machines in Australia, and what a marvel of technology they were thought to be! #LearnEnglish #ESL https://t.co/OKcmOD7FkI\n",
            "\n",
            "\n",
            "Do you know what is the past tense and past participle of 'drink'? Read on to learn more! https://t.co/apOovcBs3Y #LearnEnglish #ESL #EAL\n",
            "\n",
            "\n",
            "Pop Quiz!\n",
            "\n",
            "One of these 3 words has the wrong suffix. Which one is it? 🤔 How would you fix it? Tell us in the comments? #LearnEnglish https://t.co/R4rCGCBqKI\n",
            "\n",
            "\n",
            "Do you buy your fruit and vegetables at a big supermarket, or a small greengrocer? Back in 1962, the people of Sydney started to change their shopping habits. What did the greengrocers think? How would their business survive? Watch and learn. #LearnEnglish #ESL #EAL https://t.co/44gD36YBHn\n",
            "\n",
            "\n",
            "What are verb suffixes like -en, -ate and -ise? How they can extend your vocabulary and help you remember meanings of new words.? #learnenglish #ESL #EAL\n",
            "https://t.co/26MgDij5Mr\n",
            "\n",
            "\n",
            "Pop Quiz!\n",
            "\n",
            "One of these 3 words has the wrong suffix. Which one is it? 🤔 How would you fix it? Tell us in the comments? #LearnEnglish https://t.co/DN4Xld2JkE\n",
            "\n",
            "\n",
            "Do you know the difference between practise and practice? How about license and licence? Let us advise you with some handy advice! Watch and learn. #LearnEnglish #ESL #EAL https://t.co/cfHPuGjoQR\n",
            "\n",
            "\n",
            "#EnglishInTheNews: Our new weekly lesson focuses on key words from athe news story. With the arrival of the coronavirus vaccine in Australia, a national rollout of the vaccine is in progress. Here are 10 important words. #learnenglish #EAL #ESL\n",
            "https://t.co/VFBScLSerU\n",
            "\n",
            "\n",
            "Pop Quiz!\n",
            "\n",
            "One of these 3 words has the wrong suffix. Which one is it? 🤔 How would you fix it? Tell us in the comments? #LearnEnglish https://t.co/i0qifTrjlt\n",
            "\n",
            "\n",
            "Mrs, Dr or mate - what's the most appropriate way to address different people? Professor Roly Sussex explains which words we can use to say hello to whom and under what circumstances. #LearnEnglish #ESL #EAL https://t.co/69GVJlJcDR\n",
            "\n",
            "\n",
            "‘Can’ and ‘could’ are both modal verbs. Can you tell the difference between the two?  https://t.co/yLNvWHGAS9 #LearnEnglish #ESL #EAL\n",
            "\n",
            "\n",
            "Pop Quiz!\n",
            "\n",
            "One of these 3 words has the wrong suffix. Which one is it? 🤔 How would you fix it? Tell us in the comments? #LearnEnglish https://t.co/GJpf0k0LsI\n",
            "\n",
            "\n",
            "Whether you call them 'sweets', 'lollies', or candy, everyone has their own way of eating them - do you suck, crunch, or chew them?  Watch and listen to what these people said about it in 1967. #LearnEnglish #ESL #EAL https://t.co/qUFrJ2NDOP\n",
            "\n",
            "\n",
            "'Will’ and ‘would’ are commonly used in daily conversation. Here's what you need to know about them.  https://t.co/8zQKkzPM1z #LearnEnglish #ESL #EAL\n",
            "\n",
            "\n",
            "Pop Quiz!\n",
            "\n",
            "One of these 3 words has the wrong suffix. Which one is it? 🤔 How would you fix it? Tell us in the comments? #LearnEnglish https://t.co/2ojaNJ18Ps\n",
            "\n",
            "\n",
            "What do we call those people who are first on the scene of a fire, an accident, or an emergency situation? Are they 'first responders', or are they 'emergency services'? Listen in here to a discussion of what we call them in Australia, and why. #LearnEnglish #ESL https://t.co/awBd3pGaz2\n",
            "\n",
            "\n",
            "‘Will’ and ‘going to’ are both used to talk about future events but there are some differences.  https://t.co/xVzoYcDBE9 #LearnEnglish #ESL #EAL\n",
            "\n",
            "\n",
            "Pop Quiz!\n",
            "\n",
            "One of these 3 words has the wrong suffix. Which one is it? 🤔 How would you fix it? Tell us in the comments?  #learnenglish https://t.co/naj4BDpSao\n",
            "\n",
            "\n",
            "Why is a job called a role? Listen in to Prof Roly Sussex to find out. #LearnEnglish #ESL #EAL https://t.co/BTvAbuzxO0\n",
            "\n",
            "\n",
            "'In', 'on' and 'at' are commonly used in daily conversation but do you know when to use these words? This lesson will help you understand. https://t.co/lh28l9879I #LearnEnglish #ESL #EAL  '\n",
            "\n",
            "\n",
            "Pop Quiz! Let's look at suffixes. Remember them? They're the group of letters that are added to the end of a word to make a new word. One of these 3 words has the wrong suffix. Which one is it? 🤔 https://t.co/9jcHuiRlvf\n",
            "\n",
            "\n",
            "How do we shorten words in Australia? Listen in to find out! #LearnEnglish #ESL #EAL https://t.co/3ryq5qL4aq\n",
            "\n",
            "\n",
            "Making friends is a part of everyone’s lives but it may not always be a good experience. Here are positive and negative phrases you can use when describing friendships. https://t.co/GJ7ZpD8W12 #LearnEnglish #ESL #EAL\n",
            "\n",
            "\n",
            "The phrasal verb 'run into' has a few different meanings and can be used in different situations. MORE: https://t.co/QCMcWsd54U #LearnEnglish #ESL #EAL\n",
            "\n",
            "\n",
            "Back in 1971, the people of Sydney faced a price rise in train fares.  How much did it cost, and what was the increase? Watch and listen for the numbers! Do you catch a train to work? How much is the train fare? Tell us in the comments! #LearnEnglish #ESL #EAL https://t.co/GXmc33Cxdj\n",
            "\n",
            "\n",
            "When do you use 'brain' or 'mind'? We explain the differences for you! https://t.co/kYXsGDC84b #LearnEnglish #ESL #EAL\n",
            "\n",
            "\n",
            "How would you describe your home? What is the difference between 'home' and 'house'? MORE: https://t.co/T8h6CWMy3h #LearnEnglish #ESL #EAL\n",
            "\n",
            "\n",
            "To, too and two are three little words that cause a lot of confusion! Watch and listen to this episode of English on the Go to learn the differences, and how to use them. #LearnEnglish #ESL #EAL https://t.co/FI0w0X9OPC\n",
            "\n",
            "\n",
            "In this lesson, learn how to talk about the Year of the Ox and how it is being celebrated in the middle of a global pandemic. https://t.co/6O7Pya8ZRw #LearnEnglish #ESL #EAL\n",
            "\n",
            "\n",
            "You may hear people in Australia say you should ‘have a go’ or ‘give it a go’. What does it mean? MORE: https://t.co/3bZu18HhU4 #LearnEnglish #ESL #EAL\n",
            "\n",
            "\n",
            "Have you heard that 'have' is one of the most important verbs in English? Have no fear - Prof Roly Sussex can tell you all about it! #LearnEnglish #ESL #EAL https://t.co/v726RLHV8Z\n",
            "\n",
            "\n",
            "How can you express your feelings about someone or something you love? https://t.co/ZpkM51Vhyl #LearnEnglish #ESL #EAL\n",
            "\n",
            "\n",
            "When we are talking about food, we can use the idiom 'an acquired taste'. MORE: https://t.co/A2NCChwjHE #LearnEnglish #ESL #EAL\n",
            "\n",
            "\n",
            "In 1961, people in the streets of Sydney were asked if they would prefer to see British or American influence in Australia.  What did they say? Watch and listen. #LearnEnglish #ESL #EAL https://t.co/wUjVy5KIhu\n",
            "\n",
            "\n",
            "Learning English can be a challenge – but some might say it’s not rocket science. Take a look at these words and phrases inspired by science. https://t.co/GC9EbVqpbB #LearnEnglish #ESL #EAL\n",
            "\n",
            "\n",
            "The word 'citations' is used differently in English depending on what country you're in. Listen in to learn more. #LearnEnglish #ESL https://t.co/phxZb9AVqk\n",
            "\n",
            "\n",
            "Jakarta is known for its heavy traffic. Let’s take a look at words we can use to talk about traffic. https://t.co/b0nH93M7g8 #LearnEnglish #ESL #EAL\n",
            "\n",
            "\n",
            "'Live' is pronounced differently when it's used as a verb and an adjective. MORE: https://t.co/GpxgbG56UE #LearnEnglish #ESL #EAL\n",
            "\n",
            "\n",
            "They're, there and their are homophones that often confuse language learners. There're is a word that only exists in spoken English. Roly Sussex explains. #LearnEnglish #ESL #EAL https://t.co/Y25CCpirIn\n",
            "\n",
            "\n",
            "What does the informal expression 'what have you' mean and when can it be used? https://t.co/RhFySbERXT #LearnEnglish #ESL #EAL\n",
            "\n",
            "\n",
            "It's important to learn the differences between formal and informal English. MORE: https://t.co/ZiMZuzdGfu #LearnEnglish #ESL #EAL\n",
            "\n",
            "\n",
            "Is the verb 'to disappear' transitive or intransitive? Do we 'make something disappear', or do we 'disappear something'? Listen in as Roly Sussex explains. #LearnEnglish #ESL #EAL https://t.co/9XLjCHHCNC\n",
            "\n",
            "\n",
            "What can you say when you need some help from someone? https://t.co/U68S5hntMU #LearnEnglish #ESL #EAL\n",
            "\n",
            "\n",
            "In 1964, a new method of waterproofing cement was introduced in Australia. Watch this news story about how this new technology could help farmers and their cow sheds. Listen for the different vocabulary used to describe the process. #LearnEnglish #ESL #EAL https://t.co/JtrMXB5mdr\n",
            "\n",
            "\n",
            "We're exploring phrases about health and happiness that you can use in everyday English. https://t.co/9SETH2Ryqa #LearnEnglish #ESL #EAL\n",
            "\n",
            "\n",
            "Spelling certain English words differently can alter the meaning of a sentence completely. In this video, we look at the spelling and corresponding meanings of a and e words in English. #LearnEnglish #ESL #EAL https://t.co/Asyjrga8wb\n",
            "\n",
            "\n",
            "Have you come across these word idioms through word of mouth? Or did you know about them from the word go? In this lesson, learn how you can use these useful word idioms in daily conversation. https://t.co/MNP1PXf14E #LearnEnglish #ESL #EAL\n",
            "\n",
            "\n",
            "What is the difference between grammar and syntax, and why is it important to get it right in the English language? Listen in as Prof Sussex explains. #LearnEnglish #ESL #EAL https://t.co/ARARBZKgVL\n",
            "\n",
            "\n",
            "What are noun suffixes? How can they be used to expand our vocabulary or help work out the meaning of unfamiliar vocabulary? https://t.co/PHX0mJ2b7o #LearnEnglish #ESL #EAL\n",
            "\n",
            "\n",
            "How many ways can you use the word engage? Listen as Prof Roly Sussex explains. #LearnEnglish #ESL #EAL https://t.co/SkXcIAeHq4\n",
            "\n",
            "\n",
            "Here are some phrases you can use when talking about household chores. https://t.co/Z8qkFGz8ye #LearnEnglish #ESL #EAL\n",
            "\n",
            "\n",
            "Her faith has taught her to take care of our planet. Now, Western Sydney teacher Zubaida is educating her community about climate change, outside of her classroom. Watch and listen her story. #LearnEnglish #ESL #EAL https://t.co/nhmhxjbMuK\n",
            "\n",
            "\n",
            "'Suspect' is a homograph. It can be pronounced differently while the spelling remains the same. https://t.co/hdfckdop8Q #LearnEnglish #ESL #EAL\n",
            "\n",
            "\n",
            "We asked people in Australia about their favourite English words. https://t.co/CPizNPKDlE #LearnEnglish #ESL #EAL\n",
            "\n",
            "\n",
            "Renae Kretschmer will never forget her mum. Somehow apricots bring her closer to her. https://t.co/JHsOPHxr0o #LearnEnglish #ESL #EAL\n",
            "\n",
            "\n",
            "Do you enjoy learning new songs while you learn English? Back in 1959, these new immigrants to Australia learnt English in night classes, and some Australian songs too! #LearnEnglish #ESL #EAL https://t.co/wTIUDrEkSc\n",
            "\n",
            "\n",
            "Australia is a huge country, and can experience flood and drought at the same time. This short video explains what floods and droughts are, why they occur, and the problems they cause. #LearnEnglish #ESL #EAL https://t.co/atCHTn0Gco\n",
            "\n",
            "\n",
            "Learn vocabulary in this lesson about the Busselton Jetty, the longest jetty in the Southern hemisphere. https://t.co/wTZbApuPlN #LearnEnglish #ESL #EAL\n",
            "\n",
            "\n",
            "Olivier Gisubizo is educating his friends about the Africa he knows, not just the one they imagine. https://t.co/KGp3MLyhbW #LearnEnglish #ESL #EAL\n",
            "\n",
            "\n",
            "A lemon is a citrus fruit, but also something that is defective. This news report from 1971 explains what you should do if you've bought a defective car, or a 'lemon'! #LearnEnglish #ESL #EAL https://t.co/OTmVFBVtXh\n",
            "\n",
            "\n",
            "Learn the different meanings of the word 'object'. https://t.co/YO1v1buz6b #LearnEnglish #ESL #EAL\n",
            "\n",
            "\n",
            "Indigo Clarke shares her story of having Tourettes, and being comfortable in herself and the way her body tics. https://t.co/wxcWJLsY5W #LearnEnglish #ESL #EAL\n",
            "\n",
            "\n",
            "Whether or not you’re talking about the weather outside or a wether on the farm, we explain which spelling you should use. For more, including a transcript and quiz: https://t.co/S4zQESvdAV #LearnEnglish #ESL https://t.co/MXLyFSoiuS\n",
            "\n",
            "\n",
            "'Fly' and 'flight' are two words we use when we want to talk about moving through the air. https://t.co/uWZ6uV2Bar #LearnEnglish #ESL #EAL\n",
            "\n",
            "\n",
            "Katherine Butler shares her journey learning sign language. MORE: https://t.co/JGZxZwJrOh\n",
            "\n",
            "\n",
            "Many of us are still spending a lot of time at home, to help combat COVID-19. This radio listener had a question for Prof Roly Sussex: are we 'hunkering down' at home, or 'bunkering down'? Do they mean the same thing? Listen in, Prof Roly has the answers. #LearnEnglish #ESL #EAL https://t.co/tCeuJhaTXA\n",
            "\n",
            "\n",
            "The word 'conflict' is pronounced differently when it is used as a verb and a noun. https://t.co/kP0n7c1VUM #LearnEnglish #ESL #EAL\n",
            "\n",
            "\n",
            "Jivaughn will one day achieve the goal of going to University. MORE:  https://t.co/efu21y5FR6 #LearnEnglish #ESL #EAL\n",
            "\n",
            "\n",
            "Did you learn cursive handwriting at school? Good 'penmanship' was an important skill to learn, and Australian children began to learn this new method in the 1960s. Watch and learn as this teacher explains how. #LearnEnglish #ESL #EAL https://t.co/dfOYNGz6Eh\n",
            "\n",
            "\n",
            "What do you say to someone when you want to talk about why you love your job? https://t.co/kc2vzWW2jJ #LearnEnglish #ESL #EAL\n",
            "\n",
            "\n",
            "Been thinking about collecting your family's recipes? Be inspired by these four Australian families' experiences. https://t.co/c6NaVqcHjX #LearnEnglish #ESL #EAL\n",
            "\n",
            "\n",
            "Watch and listen as more international students share their thoughts on what they find surprising about Australian English. #LearnEnglish #ESL https://t.co/XKo7KZqxDj\n",
            "\n",
            "\n",
            "'Rise' and 'raise' are verbs we use when we are talking about something going up. https://t.co/CZHsQXZ3UN #LearnEnglish #ESL #EAL\n",
            "\n",
            "\n",
            "Charline Marom came to Australia as a child after spending many years in refugee camps in Africa, and now lives in Toowoomba. Listen to Charline talk about her journey and find out the meanings of the words she uses. https://t.co/ozIPyktQNX #LearnEnglish #ESL #EAL\n",
            "\n",
            "\n",
            "January 26th is Australia Day. Marwa and her family fled Syria and arrived in Australia in 2016. Now she is working as a community translator while studying pre-medicine. Watch and listen to her story. #LearnEnglish #ESL #EAL https://t.co/x296DBz46i\n",
            "\n",
            "\n",
            "'Blow up' the balloon before you 'blow out' the candle - do you know what these phrasal verbs mean? https://t.co/m3jehiny0a #LearnEnglish #ESL #EAL\n",
            "\n",
            "\n",
            "While regional communities are generally making new arrivals feel welcome, refugees in regional areas face ongoing challenges — from trouble finding work to difficulties getting a drivers license. https://t.co/F7n8ozOyu9 #LearnEnglish #ESL #EAL\n",
            "\n",
            "\n",
            "These international students at an Education Australia conference shared with us what they found surprising about Australian English when they arrived. #LearnEnglish #ESL https://t.co/ciq4zPg7zI\n",
            "\n",
            "\n",
            "Do you know the difference between 'look', 'see' and 'watch'? Read on to learn more! https://t.co/AzGKNw4PMx #LearnEnglish #ESL #EAL\n",
            "\n",
            "\n",
            "Getting a job is key to settling into regional Australia as a refugee — and can be a huge economic driver for regional towns. Here's how three refugees are managing the challenge. https://t.co/MUQS0jnC56 #LearnEnglish #ESL #EAL\n",
            "\n",
            "\n",
            "In 1969, the idea of getting money from a machine in the wall was a new and exciting one in Australia. Watch and learn. #LearnEnglish #ESL #EAL https://t.co/c9ZHJOH9b9\n",
            "\n",
            "\n",
            "Do you know what's trending online? Have you ever posted something that's gone viral? https://t.co/aKuRPCOV3E #LearnEnglish #ESL #EAL\n",
            "\n",
            "\n",
            "As a young refugee in regional Australia, driving can mean the difference between successfully settling into a new community or finding yourself isolated. But reaching the required 100+ hours of driving before going for a test can be really challenging. https://t.co/KRvMCUjSSe\n",
            "\n",
            "\n",
            "Do you know when to use 'a', 'an', and 'the'? Watch and learn! #LearnEnglish #ESL #EAD https://t.co/BF3qUxk7m6\n",
            "\n",
            "\n",
            "In this lesson, learn about the transport system and the different modes of transport we can use. https://t.co/CzjnY5A0B9 #LearnEnglish #ESL #EAL\n",
            "\n",
            "\n",
            "A sporting home for refugees for almost 20 years, Hobart United has overcome language and cultural barriers and is now a rising star in the local league. https://t.co/NSVUiRnXrk #LearnEnglish #ESL #EAL\n",
            "\n",
            "\n",
            "When it comes to renting, what is the difference between 'leasing' and 'letting'? Are they the same thing? Listen in as Prof Roly Sussex explains. #LearnEnglish #ESL #EAL https://t.co/2JNjOf19Yi\n",
            "\n",
            "\n",
            "Australians may be known for their outdoor hobbies but there's lots of other pastimes people pursue. https://t.co/nbMwxiiXJ4 #LearnEnglish #ESL #EAL\n",
            "\n",
            "\n",
            "If something fits, it is appropriate in size or measure for a purpose. The past tense of 'fit' is beginning to change, and of course, you can have a fit. Allow Professor Roly Sussex to explain. #LearnEnglish #ESL #EAL https://t.co/V1EYHwuQTQ\n",
            "\n",
            "\n",
            "Do you know the difference between 'migrate' and 'emigrate'? And what about 'immigration'? https://t.co/XicHqKa35M #LearnEnglish #ESL #EAL\n",
            "\n",
            "\n",
            "Why do we say that a dog 'woofs' and a chicken 'clucks'? These words are 'onomatopoeia' - in other words, the word is made from the sound we hear. There are many of these words in all languages, including English. Listen in as Roly Sussex explains.  #LearnEnglish #ESL #EAL https://t.co/Ts7vN4OxYR\n",
            "\n",
            "\n",
            "If you're able to 'catch on' the meanings of these phrasal verbs, you won't be 'caught out'. https://t.co/JjhZXLkxER #LearnEnglish #ESL #EAL\n",
            "\n",
            "\n",
            "How do you change arrangeme nts for the plans you have made with friends and family when restrictions change? Here are some tips.   https://t.co/lxrJgxPJTJ #LearnEnglish #ESL #EAL\n",
            "\n",
            "\n",
            "Do you keep your phone in your bedroom overnight? This is why Sammy J thinks you should reconsider. More tips for taking care of your mental health: https://t.co/7IYYFoof1e  #LearnEnglish https://t.co/jhmjQeQx8G\n",
            "\n",
            "\n",
            "'By' is one of the most commonly used words in the English language. Here are its different uses. https://t.co/TEVnW6ICWl #LearnEnglish #ESL #EAL\n",
            "\n",
            "\n",
            "Jacob shares how the Bush Mob program has changed his life. Follow the link to listen to his story. https://t.co/ml6sVkbrW0 #LearnEnglish #ESL #EAL\n",
            "\n",
            "\n",
            "Sammy J may not know what the \"hippocampi\" is, but he does know how to take care of it 🥦🍓🍌🍎 More tips for taking care of your mental health: https://t.co/7IYYFo6E9G #LearnEnglish https://t.co/2UGeZDfGbV\n",
            "\n",
            "\n",
            "People who keep working without a break can 'burn out'. Do you know what it means? Find out below! https://t.co/ZMSsPV2inM #LearnEnglish #ESL #EAL\n",
            "\n",
            "\n",
            "Sam saved his communities beating heart- the Golden Square pool. Follow the link to listen to his story. https://t.co/n637JJIRXz #LearnEnglish #ESL #EAL\n",
            "\n",
            "\n",
            "The job of a secretary was traditionally held by women in previous decades. What did they do, and were they happy with their role? Watch and learn to this news report from 1969. #LearnEnglish #ESL #EAL https://t.co/lDpczE1Voe\n",
            "\n",
            "\n",
            "The phrasal verb 'bring up' has a number of different meanings. Let's take a look at how we can use it. https://t.co/ftlxYBUdW1 #LearnEnglish #ESL #EAL\n",
            "\n",
            "\n",
            "Jess is a young environment champion fighting to save our planet. Follow the link to listen to her story. https://t.co/WBpr9pTtAL #LearnEnglish #ESL #EAL\n",
            "\n",
            "\n",
            "Do you know the difference between 'then' and 'than'? Here's a great explainer to help you understand. #LearnEnglish #ESL https://t.co/V1d2lAe5CG\n",
            "\n",
            "\n",
            "What is the difference between an 'idiom', 'slang' and a 'phrase'? We take a closer look in this lesson below. https://t.co/7JuKcP9Qbj #LearnEnglish #ESL #EAL\n",
            "\n",
            "\n",
            "Ebony may live in a small town, but it's big in community spirit. https://t.co/UYI0j1zbcp #LearnEnglish #ESL #EAL\n",
            "\n",
            "\n",
            "Do we use 'that' or 'who' to describe people and things? If you are confused, don't worry. Prof Roly Sussex can explain. Listen in and learn. #LearnEnglish #ESL #EAL https://t.co/C6ss0yc9LX\n",
            "\n",
            "\n",
            "Do you know the difference between 'sale', 'on sale' and 'for sale'? Read on to learn more! https://t.co/HSpK3fx3OW #LearnEnglish #ESL #EAL\n",
            "\n",
            "\n",
            "Jade is fighting to keep the Baaka River healthy for her community and culture. https://t.co/44kFLH2ahO #LearnEnglish #ESL #EAL\n",
            "\n",
            "\n",
            "Join Sammy J for a simple breathing exercise. Or, maybe don’t 😬 In all seriousness, breathing exercises can be really handy for managing stress and anxiety. Read more: https://t.co/7IYYFo6E9G #LearnEnglish https://t.co/J73GcGRxdX\n",
            "\n",
            "\n",
            "Learning a new language involves learning new words but in English, there are many expressions with ‘word’ in them. Find out more in this lesson. https://t.co/deiADo1jyq #LearnEnglish #ESL #EAL\n",
            "\n",
            "\n",
            "Rebecca shares her experience moving to this lucky country. https://t.co/jHdPq6ZWeW #LearnEnglish #ESL #EAL\n",
            "\n",
            "\n",
            "What is the meaning of life? It’s a big question, but thankfully Sammy J has the answer. More tips for taking care of your mental health: https://t.co/7IYYFoof1e  #LearnEnglish #ESL #EAL https://t.co/ZVNg9VhMRO\n",
            "\n",
            "\n",
            "'Big' and 'large' are adjectives that have the same meaning when we are talking about size. https://t.co/oSdLUpJXW3 #LearnEnglish #ESL #EAL\n",
            "\n",
            "\n",
            "Timothy is inspired by his dad to keep the farm together. Read and listen to his story. https://t.co/t5aXgmPJZV #LearnEnglish #ESL #EAL\n",
            "\n",
            "\n",
            "Did you know that writing a gratitude journal can help keep your mental health in tip-top shape? Sammy J explains more. What are you grateful for today? #LearnEnglish #ESL #EAL https://t.co/BVJiJbwS4W\n",
            "\n",
            "\n",
            "We asked people on the streets of Melbourne how they celebrate their birthdays. Find out more below. https://t.co/Bh3tg7ia2K #LearnEnglish #ESL #EAL\n",
            "\n",
            "\n",
            "An 'inoculation' is the process of giving someone a vaccine. Where does this word come from? Prof Roly Sussex explains. #LearnEnglish #ESL #EAL https://t.co/eiJcPwPCru\n",
            "\n",
            "\n",
            "Let's find out more about 'especially' and 'specially' which are examples of adverbs used in daily conversation. https://t.co/NJAcLKozo9 #LearnEnglish #ESL #EAL\n",
            "\n",
            "\n",
            "2020 Heywire winner Lilli is a proud home school kid. https://t.co/hXb3F0y0ms #LearnEnglish #ESL #EAL\n",
            "\n",
            "\n",
            "What did Australian shoppers think when the price of butter increased in 1960? What 'ways and means' did they have to make their butter and money spread further? Watch, listen, and learn. #LearnEnglish #ESL #EAL https://t.co/TXL42i7b4c\n",
            "\n",
            "\n",
            "Learn about the difference between ‘teach’ and ‘learn’. https://t.co/wOlFRgItWK #LearnEnglish #ESL #EAL\n",
            "\n",
            "\n",
            "2020 Heywire Winner Blake is thankful for rap music for helping him overcome anxiety. https://t.co/8XQ4gtFDt5 #LearnEnglish #ESL #EAL\n",
            "\n",
            "\n",
            "What's the difference between 'peek', 'peak' and 'pique'? #LearnEnglish #ESL #EAL https://t.co/tinSOtu0kw\n",
            "\n",
            "\n",
            "‘Tear’ and ‘desert’ can be pronounced differently to indicate their different meanings. https://t.co/pIVhdbQcy7 #LearnEnglish #ESL #EAL\n",
            "\n",
            "\n",
            "Heywire winner, Kelsang Dolker tells her story of moving from Tibet to Canberra. https://t.co/GBDvMT7WA8 #LearnEnglish #ESL #EAL\n",
            "\n",
            "\n",
            "Don't give up on these phrasal verbs with the word 'give'. https://t.co/JSeGrvAoxe #LearnEnglish #ESL #EAL\n",
            "\n",
            "\n",
            "Do you know what ‘walk the walk’ means? What about ‘walk off with’? https://t.co/ImMDqrxszF #LearnEnglish #ESL #EAL\n",
            "\n",
            "\n",
            "Heywire winner, Anyueer Majur is standing up for racial equality. https://t.co/FxwK9GHc6s #LearnEnglish #ESL #EAL\n",
            "\n",
            "\n",
            "What are the origins of English words that describe clothes and footwear? What are the different names for shoes? Professor Roly Sussex explains. #LearnEnglish #ESL #EAL https://t.co/QmO7dT27M9\n",
            "\n",
            "\n",
            "Do you know when to use ‘could have’ and ‘would have’ to talk about past events? https://t.co/2qel3YtxWr #LearnEnglish #ESL #EAL\n",
            "\n",
            "\n",
            "Heywire winner, Olivier Gisubizo is educating his friends about the Africa he knows, not just the one they imagine. https://t.co/DWwxUomejy #LearnEnglish #ESL #EAL\n",
            "\n",
            "\n",
            "It's a well-known fact that English words aren't spelt the way they sound but why is that the case? Can they actually be standardised to be spelt the way they sound? Professor Roly Sussex explains. #LearnEnglish #ESL #EAL https://t.co/LrxG2bk1k8\n",
            "\n",
            "\n",
            "‘Will’ and ‘going to’ are both used to talk about future events but there are some differences.  https://t.co/FFvkOOoWTl #LearnEnglish #ESL #EAL\n",
            "\n",
            "\n",
            "Meet Zane. He lives in Queensland, and describes how working at a fish farm has helped him make better decisions. https://t.co/0NSdYcbNGn #LearnEnglish #ESL #EAL\n",
            "\n",
            "\n",
            "Do you have a 'nickname'? They're common in Australian English, but they're not quite the same as a 'diminutive'. Don't worry if you don't know the difference - Prof Roly Sussex can explain. :) #LearnEnglish #ESL #EAL https://t.co/KXYPwfC1Yq\n",
            "\n",
            "\n",
            "'Record' is a homograph. It can be used as a verb and noun. https://t.co/3aBeOzUkdZ #LearnEnglish #ESL #EAL\n",
            "\n",
            "\n"
          ],
          "name": "stdout"
        }
      ]
    },
    {
      "cell_type": "code",
      "metadata": {
        "colab": {
          "base_uri": "https://localhost:8080/"
        },
        "id": "jrbciaLSPaoZ",
        "outputId": "7f883766-3023-4511-d697-7f51c808fe07"
      },
      "source": [
        "all_tweets = []\n",
        "all_tweets.extend(tweets)\n",
        "oldest_id = tweets[-1].id\n",
        "while True:\n",
        "    tweets = api.user_timeline(screen_name=userID,\n",
        "                           count=200,\n",
        "                           include_rts = False,\n",
        "                           max_id = oldest_id - 1,\n",
        "                           tweet_mode = 'extended'\n",
        "                           )\n",
        "    if len(tweets) == 0:\n",
        "        break\n",
        "    oldest_id = tweets[-1].id\n",
        "    all_tweets.extend(tweets)\n",
        "    print('N of tweets downloaded till now {}'.format(len(all_tweets)))"
      ],
      "execution_count": null,
      "outputs": [
        {
          "output_type": "stream",
          "text": [
            "N of tweets downloaded till now 399\n",
            "N of tweets downloaded till now 596\n",
            "N of tweets downloaded till now 795\n",
            "N of tweets downloaded till now 994\n",
            "N of tweets downloaded till now 1191\n",
            "N of tweets downloaded till now 1391\n",
            "N of tweets downloaded till now 1590\n",
            "N of tweets downloaded till now 1789\n",
            "N of tweets downloaded till now 1988\n",
            "N of tweets downloaded till now 2188\n",
            "N of tweets downloaded till now 2388\n",
            "N of tweets downloaded till now 2587\n",
            "N of tweets downloaded till now 2785\n",
            "N of tweets downloaded till now 2984\n",
            "N of tweets downloaded till now 3184\n",
            "N of tweets downloaded till now 3194\n"
          ],
          "name": "stdout"
        }
      ]
    },
    {
      "cell_type": "code",
      "metadata": {
        "colab": {
          "base_uri": "https://localhost:8080/",
          "height": 135
        },
        "id": "jSSM7bJJPTmi",
        "outputId": "9cf083fd-607e-484a-8f95-d8b1930bf84e"
      },
      "source": [
        "#transform the tweepy tweets into a 2D array that will populate the csv\t\n",
        "from pandas import DataFrame\n",
        "outtweets = [[tweet.full_text.encode(\"utf-8\").decode(\"utf-8\")] \n",
        "             for idx,tweet in enumerate(all_tweets)]\n",
        "df = DataFrame(outtweets,columns=[\"text\"])\n",
        "df.to_csv('%s_tweets.csv' % userID,index=False)\n",
        "df.head(3)"
      ],
      "execution_count": null,
      "outputs": [
        {
          "output_type": "execute_result",
          "data": {
            "text/html": [
              "<div>\n",
              "<style scoped>\n",
              "    .dataframe tbody tr th:only-of-type {\n",
              "        vertical-align: middle;\n",
              "    }\n",
              "\n",
              "    .dataframe tbody tr th {\n",
              "        vertical-align: top;\n",
              "    }\n",
              "\n",
              "    .dataframe thead th {\n",
              "        text-align: right;\n",
              "    }\n",
              "</style>\n",
              "<table border=\"1\" class=\"dataframe\">\n",
              "  <thead>\n",
              "    <tr style=\"text-align: right;\">\n",
              "      <th></th>\n",
              "      <th>text</th>\n",
              "    </tr>\n",
              "  </thead>\n",
              "  <tbody>\n",
              "    <tr>\n",
              "      <th>0</th>\n",
              "      <td>Do you know what is the difference between 'ha...</td>\n",
              "    </tr>\n",
              "    <tr>\n",
              "      <th>1</th>\n",
              "      <td>There are a few different ways to pronounce 'o...</td>\n",
              "    </tr>\n",
              "    <tr>\n",
              "      <th>2</th>\n",
              "      <td>Lawrence and Charlotte talk about their weeken...</td>\n",
              "    </tr>\n",
              "  </tbody>\n",
              "</table>\n",
              "</div>"
            ],
            "text/plain": [
              "                                                text\n",
              "0  Do you know what is the difference between 'ha...\n",
              "1  There are a few different ways to pronounce 'o...\n",
              "2  Lawrence and Charlotte talk about their weeken..."
            ]
          },
          "metadata": {
            "tags": []
          },
          "execution_count": 5
        }
      ]
    },
    {
      "cell_type": "code",
      "metadata": {
        "colab": {
          "base_uri": "https://localhost:8080/"
        },
        "id": "HUlnQSHen1V6",
        "outputId": "084625bf-c7dc-467c-e320-285c55e16659"
      },
      "source": [
        "df.shape"
      ],
      "execution_count": null,
      "outputs": [
        {
          "output_type": "execute_result",
          "data": {
            "text/plain": [
              "(3194, 1)"
            ]
          },
          "metadata": {
            "tags": []
          },
          "execution_count": 6
        }
      ]
    },
    {
      "cell_type": "code",
      "metadata": {
        "id": "OZlezxxLxZ6o"
      },
      "source": [
        "import tensorflow as tf\n",
        "from tensorflow.keras.preprocessing.sequence import pad_sequences\n",
        "from tensorflow.keras.layers import Embedding, LSTM, Dense\n",
        "from tensorflow.keras.preprocessing.text import Tokenizer\n",
        "from tensorflow.keras.models import Sequential\n",
        "from tensorflow.keras.optimizers import Adam\n",
        "import numpy as np\n",
        "import pandas as pd\n",
        "import re"
      ],
      "execution_count": 2,
      "outputs": []
    },
    {
      "cell_type": "code",
      "metadata": {
        "id": "viz09AL0uc0F"
      },
      "source": [
        "contraction_mapping = {\"ain't\": \"is not\", \"aren't\": \"are not\",\"can't\": \"cannot\", \"'cause\": \"because\", \"could've\": \"could have\", \"couldn't\": \"could not\",\n",
        "\n",
        "                           \"didn't\": \"did not\", \"doesn't\": \"does not\", \"don't\": \"do not\", \"hadn't\": \"had not\", \"hasn't\": \"has not\", \"haven't\": \"have not\",\n",
        "\n",
        "                           \"he'd\": \"he would\",\"he'll\": \"he will\", \"he's\": \"he is\", \"how'd\": \"how did\", \"how'd'y\": \"how do you\", \"how'll\": \"how will\", \"how's\": \"how is\",\n",
        "\n",
        "                           \"I'd\": \"I would\", \"I'd've\": \"I would have\", \"I'll\": \"I will\", \"I'll've\": \"I will have\",\"I'm\": \"I am\", \"I've\": \"I have\", \"i'd\": \"i would\",\n",
        "\n",
        "                           \"i'd've\": \"i would have\", \"i'll\": \"i will\",  \"i'll've\": \"i will have\",\"i'm\": \"i am\", \"i've\": \"i have\", \"isn't\": \"is not\", \"it'd\": \"it would\",\n",
        "\n",
        "                           \"it'd've\": \"it would have\", \"it'll\": \"it will\", \"it'll've\": \"it will have\",\"it's\": \"it is\", \"let's\": \"let us\", \"ma'am\": \"madam\",\n",
        "\n",
        "                           \"mayn't\": \"may not\", \"might've\": \"might have\",\"mightn't\": \"might not\",\"mightn't've\": \"might not have\", \"must've\": \"must have\",\n",
        "\n",
        "                           \"mustn't\": \"must not\", \"mustn't've\": \"must not have\", \"needn't\": \"need not\", \"needn't've\": \"need not have\",\"o'clock\": \"of the clock\",\n",
        "\n",
        "                           \"oughtn't\": \"ought not\", \"oughtn't've\": \"ought not have\", \"shan't\": \"shall not\", \"sha'n't\": \"shall not\", \"shan't've\": \"shall not have\",\n",
        "\n",
        "                           \"she'd\": \"she would\", \"she'd've\": \"she would have\", \"she'll\": \"she will\", \"she'll've\": \"she will have\", \"she's\": \"she is\",\n",
        "\n",
        "                           \"should've\": \"should have\", \"shouldn't\": \"should not\", \"shouldn't've\": \"should not have\", \"so've\": \"so have\",\"so's\": \"so as\",\n",
        "\n",
        "                           \"this's\": \"this is\",\"that'd\": \"that would\", \"that'd've\": \"that would have\", \"that's\": \"that is\", \"there'd\": \"there would\",\n",
        "\n",
        "                           \"there'd've\": \"there would have\", \"there's\": \"there is\", \"here's\": \"here is\",\"they'd\": \"they would\", \"they'd've\": \"they would have\",\n",
        "\n",
        "                           \"they'll\": \"they will\", \"they'll've\": \"they will have\", \"they're\": \"they are\", \"they've\": \"they have\", \"to've\": \"to have\",\n",
        "\n",
        "                           \"wasn't\": \"was not\", \"we'd\": \"we would\", \"we'd've\": \"we would have\", \"we'll\": \"we will\", \"we'll've\": \"we will have\", \"we're\": \"we are\",\n",
        "\n",
        "                           \"we've\": \"we have\", \"weren't\": \"were not\", \"what'll\": \"what will\", \"what'll've\": \"what will have\", \"what're\": \"what are\",\n",
        "\n",
        "                           \"what's\": \"what is\", \"what've\": \"what have\", \"when's\": \"when is\", \"when've\": \"when have\", \"where'd\": \"where did\", \"where's\": \"where is\",\n",
        "\n",
        "                           \"where've\": \"where have\", \"who'll\": \"who will\", \"who'll've\": \"who will have\", \"who's\": \"who is\", \"who've\": \"who have\",\n",
        "\n",
        "                           \"why's\": \"why is\", \"why've\": \"why have\", \"will've\": \"will have\", \"won't\": \"will not\", \"won't've\": \"will not have\",\n",
        "\n",
        "                           \"would've\": \"would have\", \"wouldn't\": \"would not\", \"wouldn't've\": \"would not have\", \"y'all\": \"you all\",\n",
        "\n",
        "                           \"y'all'd\": \"you all would\",\"y'all'd've\": \"you all would have\",\"y'all're\": \"you all are\",\"y'all've\": \"you all have\",\n",
        "\n",
        "                           \"you'd\": \"you would\", \"you'd've\": \"you would have\", \"you'll\": \"you will\", \"you'll've\": \"you will have\",\n",
        "\n",
        "                           \"you're\": \"you are\", \"you've\": \"you have\"}"
      ],
      "execution_count": null,
      "outputs": []
    },
    {
      "cell_type": "code",
      "metadata": {
        "colab": {
          "base_uri": "https://localhost:8080/"
        },
        "id": "u4wKj-rtuxS7",
        "outputId": "8fd81980-322b-44b6-c7ba-3cff33ba2d4e"
      },
      "source": [
        "import nltk\n",
        "nltk.download('stopwords')\n",
        "from nltk.corpus import stopwords\n",
        "STOP_WORDS = set(stopwords.words('english')) "
      ],
      "execution_count": null,
      "outputs": [
        {
          "output_type": "stream",
          "text": [
            "[nltk_data] Downloading package stopwords to /root/nltk_data...\n",
            "[nltk_data]   Unzipping corpora/stopwords.zip.\n"
          ],
          "name": "stdout"
        },
        {
          "output_type": "execute_result",
          "data": {
            "text/plain": [
              "True"
            ]
          },
          "metadata": {
            "tags": []
          },
          "execution_count": 9
        }
      ]
    },
    {
      "cell_type": "code",
      "metadata": {
        "id": "guxGqrC0uc6V"
      },
      "source": [
        "def CLEAN_TEXT(text):\n",
        "    text = text.lower()\n",
        "    #text = text.replace('\\%','')\n",
        "    text = re.sub('\\[.*?\\]', '', text)\n",
        "    # text = re.compile('((https?):((//)|(\\\\\\\\))+([\\w\\d:#@%/;$()~_?\\+-=\\\\\\.&](#!)?)*)', text)\n",
        "    text = re.sub('https?://\\S+|www\\.\\S+', '', text)\n",
        "    text = re.sub('<.*?>+', '', text)\n",
        "    text = ' '.join([contraction_mapping[t] if t in contraction_mapping else t for t in text.split(\" \")])    \n",
        "    #text = re.sub('[%s]' % re.escape(string.punctuation), '', text)\n",
        "    text = re.sub('\\n', '', text)\n",
        "    text = re.sub('\\w*\\d\\w*', '', text)\n",
        "    text = \" \".join(filter(lambda x:x[0]!=\"@\", text.split()))\n",
        "    return text"
      ],
      "execution_count": null,
      "outputs": []
    },
    {
      "cell_type": "code",
      "metadata": {
        "id": "7ed1ig2SQfMs"
      },
      "source": [
        "import regex as re\n",
        "df['text'] = df['text'].apply(lambda x: CLEAN_TEXT(x))\n",
        "df = df['text']"
      ],
      "execution_count": null,
      "outputs": []
    },
    {
      "cell_type": "code",
      "metadata": {
        "colab": {
          "base_uri": "https://localhost:8080/"
        },
        "id": "NqffH4agMDwh",
        "outputId": "18e603f8-918f-4724-8c06-a03cf1f37728"
      },
      "source": [
        "df"
      ],
      "execution_count": null,
      "outputs": [
        {
          "output_type": "execute_result",
          "data": {
            "text/plain": [
              "0       do you know what is the difference between 'ha...\n",
              "1       there are a few different ways to pronounce 'o...\n",
              "2       lawrence and charlotte talk about their weeken...\n",
              "3       here are some useful light idioms that you can...\n",
              "4       using who, whom, whose and who’s can be very c...\n",
              "                              ...                        \n",
              "3189    harry harding used karaoke to learn another la...\n",
              "3190    can and could are modal verbs. what is the dif...\n",
              "3191    do you find that you cannot remember english w...\n",
              "3192    these students learn english at a library. som...\n",
              "3193    there are lots of ways to improve your english...\n",
              "Name: text, Length: 3194, dtype: object"
            ]
          },
          "metadata": {
            "tags": []
          },
          "execution_count": 14
        }
      ]
    },
    {
      "cell_type": "code",
      "metadata": {
        "colab": {
          "base_uri": "https://localhost:8080/"
        },
        "id": "UBt6oOojb8oe",
        "outputId": "b676bfb7-ea79-4e1d-ae8e-5e2510e5236a"
      },
      "source": [
        "tokenizer = Tokenizer()\n",
        "tokenizer.fit_on_texts(df)\n",
        "total_words = len(tokenizer.word_index) + 1\n",
        "input_sequences = []\n",
        "for line in df:\n",
        "\ttoken_list = tokenizer.texts_to_sequences([line])[0]\n",
        "\tfor i in range(1, len(token_list)):\n",
        "\t\tn_gram_sequence = token_list[:i+1]\n",
        "\t\tinput_sequences.append(n_gram_sequence)"
      ],
      "execution_count": null,
      "outputs": [
        {
          "output_type": "stream",
          "text": [
            "5291\n"
          ],
          "name": "stdout"
        }
      ]
    },
    {
      "cell_type": "code",
      "metadata": {
        "id": "qam60ThkcEw0"
      },
      "source": [
        "max_sequence_length = max([len(x) for x in input_sequences])\n",
        "input_sequences = np.array(pad_sequences(input_sequences, maxlen=max_sequence_length, padding='pre'))\n",
        "# create predictors and label\n",
        "xs, labels = input_sequences[:,:-1],input_sequences[:,-1]\n",
        "ys = tf.keras.utils.to_categorical(labels, num_classes=total_words)"
      ],
      "execution_count": null,
      "outputs": []
    },
    {
      "cell_type": "code",
      "metadata": {
        "id": "hufQEhqQsI4f"
      },
      "source": [
        "from sklearn.model_selection import train_test_split\n",
        "from tensorflow.keras.layers import Embedding, LSTM, Dense, Bidirectional\n",
        "X_train,X_test,y_train,y_test=train_test_split(xs,ys,test_size=0.2,random_state=100)"
      ],
      "execution_count": null,
      "outputs": []
    },
    {
      "cell_type": "markdown",
      "metadata": {
        "id": "GPV2uYFBecIM"
      },
      "source": [
        "## LSTM MODEL ARCHITECTURE"
      ]
    },
    {
      "cell_type": "code",
      "metadata": {
        "colab": {
          "base_uri": "https://localhost:8080/"
        },
        "id": "lZlrniZKcRLO",
        "outputId": "c89fe8b4-4732-4e03-87c6-e866feb8cd81"
      },
      "source": [
        "# 5291 - total_words # 55 max sequence length\n",
        "model = Sequential()\n",
        "model.add(Embedding(5291, 100, input_length=55-1))\n",
        "model.add(LSTM(200, return_sequences=True))\n",
        "model.add(LSTM(500))\n",
        "model.add(tf.keras.layers.Dropout(0.4))\n",
        "model.add(Dense(5291, activation='softmax'))\n",
        "model.summary()"
      ],
      "execution_count": 7,
      "outputs": [
        {
          "output_type": "stream",
          "text": [
            "Model: \"sequential_3\"\n",
            "_________________________________________________________________\n",
            "Layer (type)                 Output Shape              Param #   \n",
            "=================================================================\n",
            "embedding_1 (Embedding)      (None, 54, 100)           529100    \n",
            "_________________________________________________________________\n",
            "lstm_2 (LSTM)                (None, 54, 200)           240800    \n",
            "_________________________________________________________________\n",
            "lstm_3 (LSTM)                (None, 500)               1402000   \n",
            "_________________________________________________________________\n",
            "dropout_1 (Dropout)          (None, 500)               0         \n",
            "_________________________________________________________________\n",
            "dense (Dense)                (None, 5291)              2650791   \n",
            "=================================================================\n",
            "Total params: 4,822,691\n",
            "Trainable params: 4,822,691\n",
            "Non-trainable params: 0\n",
            "_________________________________________________________________\n"
          ],
          "name": "stdout"
        }
      ]
    },
    {
      "cell_type": "code",
      "metadata": {
        "colab": {
          "base_uri": "https://localhost:8080/"
        },
        "id": "2K-sBDy4s2Cg",
        "outputId": "b8c20d4d-8c3d-434e-984e-41311587fc24"
      },
      "source": [
        "!pip install plot_model"
      ],
      "execution_count": 9,
      "outputs": [
        {
          "output_type": "stream",
          "text": [
            "Collecting plot_model\n",
            "  Downloading https://files.pythonhosted.org/packages/62/b8/0967e30391a7c07002c5e7bca868763dcfd26808dcb13aba052a737aa01d/plot_model-0.20-py3-none-any.whl\n",
            "Installing collected packages: plot-model\n",
            "Successfully installed plot-model-0.20\n"
          ],
          "name": "stdout"
        }
      ]
    },
    {
      "cell_type": "code",
      "metadata": {
        "id": "DSB5njBUuc2t"
      },
      "source": [
        "from keras.utils.vis_utils import plot_model"
      ],
      "execution_count": 10,
      "outputs": []
    },
    {
      "cell_type": "markdown",
      "metadata": {
        "id": "K6JbGa-Jeipl"
      },
      "source": [
        "### PLOTTING THE MODEL"
      ]
    },
    {
      "cell_type": "code",
      "metadata": {
        "colab": {
          "base_uri": "https://localhost:8080/",
          "height": 564
        },
        "id": "oZYp1q2Ts_rW",
        "outputId": "90d8616d-e32a-4a5c-fcea-553e8bc0fb87"
      },
      "source": [
        "plot_model(model)"
      ],
      "execution_count": 11,
      "outputs": [
        {
          "output_type": "execute_result",
          "data": {
            "image/png": "[encoded data removed]",
            "text/plain": [
              "<IPython.core.display.Image object>"
            ]
          },
          "metadata": {
            "tags": []
          },
          "execution_count": 11
        }
      ]
    },
    {
      "cell_type": "code",
      "metadata": {
        "id": "7SnY15tPpUN1"
      },
      "source": [
        "from tensorflow.keras.models import Sequential\n",
        "from tensorflow.keras.models import Model\n",
        "from tensorflow.keras.callbacks import EarlyStopping\n",
        "import tensorflow as tf\n",
        "from tensorflow.keras.callbacks import ModelCheckpoint"
      ],
      "execution_count": null,
      "outputs": []
    },
    {
      "cell_type": "code",
      "metadata": {
        "id": "aFVd_4M2nyxT"
      },
      "source": [
        "es = EarlyStopping(monitor = 'val_loss',\n",
        "                   mode = 'min',\n",
        "                   verbose = 1,\n",
        "                   patience = 2)\n",
        "\n",
        "mc = ModelCheckpoint('best_model3.h5',\n",
        "                    monitor = 'val_loss',\n",
        "                    mode = 'min',\n",
        "                    verbose = 1,\n",
        "                    save_best_only = True)"
      ],
      "execution_count": null,
      "outputs": []
    },
    {
      "cell_type": "markdown",
      "metadata": {
        "id": "mAKwwwyUenv7"
      },
      "source": [
        "## MODEL TRAINING PHASE"
      ]
    },
    {
      "cell_type": "code",
      "metadata": {
        "colab": {
          "base_uri": "https://localhost:8080/"
        },
        "id": "NPstUziVcU1X",
        "outputId": "d08e798c-fe7d-4c7c-9db1-b06433f6afc2"
      },
      "source": [
        "model.compile(loss='categorical_crossentropy', \n",
        "              optimizer='adam', \n",
        "              metrics=['accuracy'])\n",
        "\n",
        "history = model.fit(xs,ys,callbacks=[es,mc],epochs=35, verbose=1,validation_data=(X_test,y_test))"
      ],
      "execution_count": null,
      "outputs": [
        {
          "output_type": "stream",
          "text": [
            "Epoch 1/35\n",
            "2356/2356 [==============================] - 51s 21ms/step - loss: 6.0227 - accuracy: 0.0820 - val_loss: 5.2767 - val_accuracy: 0.1436\n",
            "\n",
            "Epoch 00001: val_loss improved from inf to 5.27674, saving model to best_model3.h5\n",
            "Epoch 2/35\n",
            "2356/2356 [==============================] - 48s 20ms/step - loss: 5.2337 - accuracy: 0.1538 - val_loss: 4.7588 - val_accuracy: 0.2048\n",
            "\n",
            "Epoch 00002: val_loss improved from 5.27674 to 4.75882, saving model to best_model3.h5\n",
            "Epoch 3/35\n",
            "2356/2356 [==============================] - 48s 20ms/step - loss: 4.7452 - accuracy: 0.2171 - val_loss: 4.2947 - val_accuracy: 0.2616\n",
            "\n",
            "Epoch 00003: val_loss improved from 4.75882 to 4.29470, saving model to best_model3.h5\n",
            "Epoch 4/35\n",
            "2356/2356 [==============================] - 49s 21ms/step - loss: 4.3128 - accuracy: 0.2620 - val_loss: 3.8795 - val_accuracy: 0.2965\n",
            "\n",
            "Epoch 00004: val_loss improved from 4.29470 to 3.87951, saving model to best_model3.h5\n",
            "Epoch 5/35\n",
            "2356/2356 [==============================] - 49s 21ms/step - loss: 3.9417 - accuracy: 0.2985 - val_loss: 3.4906 - val_accuracy: 0.3353\n",
            "\n",
            "Epoch 00005: val_loss improved from 3.87951 to 3.49055, saving model to best_model3.h5\n",
            "Epoch 6/35\n",
            "2356/2356 [==============================] - 49s 21ms/step - loss: 3.6154 - accuracy: 0.3274 - val_loss: 3.1290 - val_accuracy: 0.3770\n",
            "\n",
            "Epoch 00006: val_loss improved from 3.49055 to 3.12904, saving model to best_model3.h5\n",
            "Epoch 7/35\n",
            "2356/2356 [==============================] - 49s 21ms/step - loss: 3.2954 - accuracy: 0.3661 - val_loss: 2.8478 - val_accuracy: 0.4255\n",
            "\n",
            "Epoch 00007: val_loss improved from 3.12904 to 2.84782, saving model to best_model3.h5\n",
            "Epoch 8/35\n",
            "2356/2356 [==============================] - 49s 21ms/step - loss: 3.0125 - accuracy: 0.3966 - val_loss: 2.5336 - val_accuracy: 0.4683\n",
            "\n",
            "Epoch 00008: val_loss improved from 2.84782 to 2.53360, saving model to best_model3.h5\n",
            "Epoch 9/35\n",
            "2356/2356 [==============================] - 49s 21ms/step - loss: 2.7790 - accuracy: 0.4307 - val_loss: 2.2908 - val_accuracy: 0.5150\n",
            "\n",
            "Epoch 00009: val_loss improved from 2.53360 to 2.29078, saving model to best_model3.h5\n",
            "Epoch 10/35\n",
            "2356/2356 [==============================] - 49s 21ms/step - loss: 2.5500 - accuracy: 0.4677 - val_loss: 2.0764 - val_accuracy: 0.5467\n",
            "\n",
            "Epoch 00010: val_loss improved from 2.29078 to 2.07637, saving model to best_model3.h5\n",
            "Epoch 11/35\n",
            "2356/2356 [==============================] - 49s 21ms/step - loss: 2.3553 - accuracy: 0.4969 - val_loss: 1.8949 - val_accuracy: 0.5879\n",
            "\n",
            "Epoch 00011: val_loss improved from 2.07637 to 1.89486, saving model to best_model3.h5\n",
            "Epoch 12/35\n",
            "2356/2356 [==============================] - 49s 21ms/step - loss: 2.1803 - accuracy: 0.5244 - val_loss: 1.7174 - val_accuracy: 0.6140\n",
            "\n",
            "Epoch 00012: val_loss improved from 1.89486 to 1.71741, saving model to best_model3.h5\n",
            "Epoch 13/35\n",
            "2356/2356 [==============================] - 49s 21ms/step - loss: 2.0188 - accuracy: 0.5509 - val_loss: 1.5586 - val_accuracy: 0.6470\n",
            "\n",
            "Epoch 00013: val_loss improved from 1.71741 to 1.55862, saving model to best_model3.h5\n",
            "Epoch 14/35\n",
            "2356/2356 [==============================] - 49s 21ms/step - loss: 1.8806 - accuracy: 0.5732 - val_loss: 1.4017 - val_accuracy: 0.6710\n",
            "\n",
            "Epoch 00014: val_loss improved from 1.55862 to 1.40173, saving model to best_model3.h5\n",
            "Epoch 15/35\n",
            "2356/2356 [==============================] - 49s 21ms/step - loss: 1.7593 - accuracy: 0.5942 - val_loss: 1.2803 - val_accuracy: 0.6945\n",
            "\n",
            "Epoch 00015: val_loss improved from 1.40173 to 1.28027, saving model to best_model3.h5\n",
            "Epoch 16/35\n",
            "2356/2356 [==============================] - 49s 21ms/step - loss: 1.6370 - accuracy: 0.6201 - val_loss: 1.2064 - val_accuracy: 0.7146\n",
            "\n",
            "Epoch 00016: val_loss improved from 1.28027 to 1.20640, saving model to best_model3.h5\n",
            "Epoch 17/35\n",
            "2356/2356 [==============================] - 49s 21ms/step - loss: 1.5261 - accuracy: 0.6365 - val_loss: 1.0837 - val_accuracy: 0.7432\n",
            "\n",
            "Epoch 00017: val_loss improved from 1.20640 to 1.08371, saving model to best_model3.h5\n",
            "Epoch 18/35\n",
            "2356/2356 [==============================] - 49s 21ms/step - loss: 1.4455 - accuracy: 0.6492 - val_loss: 1.0040 - val_accuracy: 0.7570\n",
            "\n",
            "Epoch 00018: val_loss improved from 1.08371 to 1.00401, saving model to best_model3.h5\n",
            "Epoch 19/35\n",
            "2356/2356 [==============================] - 49s 21ms/step - loss: 1.3474 - accuracy: 0.6719 - val_loss: 0.9192 - val_accuracy: 0.7757\n",
            "\n",
            "Epoch 00019: val_loss improved from 1.00401 to 0.91916, saving model to best_model3.h5\n",
            "Epoch 20/35\n",
            "2356/2356 [==============================] - 49s 21ms/step - loss: 1.2686 - accuracy: 0.6865 - val_loss: 0.8493 - val_accuracy: 0.7908\n",
            "\n",
            "Epoch 00020: val_loss improved from 0.91916 to 0.84932, saving model to best_model3.h5\n",
            "Epoch 21/35\n",
            "2356/2356 [==============================] - 49s 21ms/step - loss: 1.1905 - accuracy: 0.7019 - val_loss: 0.8006 - val_accuracy: 0.8034\n",
            "\n",
            "Epoch 00021: val_loss improved from 0.84932 to 0.80057, saving model to best_model3.h5\n",
            "Epoch 22/35\n",
            "2356/2356 [==============================] - 49s 21ms/step - loss: 1.1390 - accuracy: 0.7132 - val_loss: 0.7356 - val_accuracy: 0.8178\n",
            "\n",
            "Epoch 00022: val_loss improved from 0.80057 to 0.73556, saving model to best_model3.h5\n",
            "Epoch 23/35\n",
            "2356/2356 [==============================] - 49s 21ms/step - loss: 1.0799 - accuracy: 0.7245 - val_loss: 0.6840 - val_accuracy: 0.8311\n",
            "\n",
            "Epoch 00023: val_loss improved from 0.73556 to 0.68396, saving model to best_model3.h5\n",
            "Epoch 24/35\n",
            "2356/2356 [==============================] - 49s 21ms/step - loss: 1.0338 - accuracy: 0.7359 - val_loss: 0.6439 - val_accuracy: 0.8377\n",
            "\n",
            "Epoch 00024: val_loss improved from 0.68396 to 0.64389, saving model to best_model3.h5\n",
            "Epoch 25/35\n",
            "2356/2356 [==============================] - 49s 21ms/step - loss: 0.9851 - accuracy: 0.7462 - val_loss: 0.6053 - val_accuracy: 0.8453\n",
            "\n",
            "Epoch 00025: val_loss improved from 0.64389 to 0.60532, saving model to best_model3.h5\n",
            "Epoch 26/35\n",
            "2356/2356 [==============================] - 49s 21ms/step - loss: 0.9443 - accuracy: 0.7533 - val_loss: 0.5562 - val_accuracy: 0.8592\n",
            "\n",
            "Epoch 00026: val_loss improved from 0.60532 to 0.55616, saving model to best_model3.h5\n",
            "Epoch 27/35\n",
            "2356/2356 [==============================] - 49s 21ms/step - loss: 0.8780 - accuracy: 0.7683 - val_loss: 0.5259 - val_accuracy: 0.8647\n",
            "\n",
            "Epoch 00027: val_loss improved from 0.55616 to 0.52591, saving model to best_model3.h5\n",
            "Epoch 28/35\n",
            "2356/2356 [==============================] - 49s 21ms/step - loss: 0.8558 - accuracy: 0.7735 - val_loss: 0.4852 - val_accuracy: 0.8751\n",
            "\n",
            "Epoch 00028: val_loss improved from 0.52591 to 0.48525, saving model to best_model3.h5\n",
            "Epoch 29/35\n",
            "2356/2356 [==============================] - 50s 21ms/step - loss: 0.8160 - accuracy: 0.7855 - val_loss: 0.4594 - val_accuracy: 0.8815\n",
            "\n",
            "Epoch 00029: val_loss improved from 0.48525 to 0.45940, saving model to best_model3.h5\n",
            "Epoch 30/35\n",
            "2356/2356 [==============================] - 49s 21ms/step - loss: 0.7967 - accuracy: 0.7847 - val_loss: 0.4388 - val_accuracy: 0.8854\n",
            "\n",
            "Epoch 00030: val_loss improved from 0.45940 to 0.43882, saving model to best_model3.h5\n",
            "Epoch 31/35\n",
            "2356/2356 [==============================] - 50s 21ms/step - loss: 0.7572 - accuracy: 0.7969 - val_loss: 0.4093 - val_accuracy: 0.8912\n",
            "\n",
            "Epoch 00031: val_loss improved from 0.43882 to 0.40927, saving model to best_model3.h5\n",
            "Epoch 32/35\n",
            "2356/2356 [==============================] - 49s 21ms/step - loss: 0.7343 - accuracy: 0.8003 - val_loss: 0.3905 - val_accuracy: 0.8963\n",
            "\n",
            "Epoch 00032: val_loss improved from 0.40927 to 0.39049, saving model to best_model3.h5\n",
            "Epoch 33/35\n",
            "2356/2356 [==============================] - 50s 21ms/step - loss: 0.6945 - accuracy: 0.8116 - val_loss: 0.3826 - val_accuracy: 0.9002\n",
            "\n",
            "Epoch 00033: val_loss improved from 0.39049 to 0.38263, saving model to best_model3.h5\n",
            "Epoch 34/35\n",
            "2356/2356 [==============================] - 50s 21ms/step - loss: 0.6882 - accuracy: 0.8113 - val_loss: 0.3633 - val_accuracy: 0.9041\n",
            "\n",
            "Epoch 00034: val_loss improved from 0.38263 to 0.36331, saving model to best_model3.h5\n",
            "Epoch 35/35\n",
            "2356/2356 [==============================] - 50s 21ms/step - loss: 0.6617 - accuracy: 0.8197 - val_loss: 0.3357 - val_accuracy: 0.9109\n",
            "\n",
            "Epoch 00035: val_loss improved from 0.36331 to 0.33572, saving model to best_model3.h5\n"
          ],
          "name": "stdout"
        }
      ]
    },
    {
      "cell_type": "code",
      "metadata": {
        "colab": {
          "base_uri": "https://localhost:8080/"
        },
        "id": "0SYl_K_eFQeJ",
        "outputId": "e01c1cb0-faa9-474d-a517-e0c1660a5097"
      },
      "source": [
        "!pip install rouge-score"
      ],
      "execution_count": null,
      "outputs": [
        {
          "output_type": "stream",
          "text": [
            "Collecting rouge-score\n",
            "  Downloading https://files.pythonhosted.org/packages/1f/56/a81022436c08b9405a5247b71635394d44fe7e1dbedc4b28c740e09c2840/rouge_score-0.0.4-py2.py3-none-any.whl\n",
            "Requirement already satisfied: numpy in /usr/local/lib/python3.7/dist-packages (from rouge-score) (1.19.5)\n",
            "Requirement already satisfied: six>=1.14.0 in /usr/local/lib/python3.7/dist-packages (from rouge-score) (1.15.0)\n",
            "Requirement already satisfied: absl-py in /usr/local/lib/python3.7/dist-packages (from rouge-score) (0.10.0)\n",
            "Requirement already satisfied: nltk in /usr/local/lib/python3.7/dist-packages (from rouge-score) (3.2.5)\n",
            "Installing collected packages: rouge-score\n",
            "Successfully installed rouge-score-0.0.4\n"
          ],
          "name": "stdout"
        }
      ]
    },
    {
      "cell_type": "code",
      "metadata": {
        "id": "VW437FbNvGXN",
        "colab": {
          "base_uri": "https://localhost:8080/",
          "height": 36
        },
        "outputId": "6edb9bd3-08fc-4acb-b647-7644d55fec9c"
      },
      "source": [
        "df[8]"
      ],
      "execution_count": null,
      "outputs": [
        {
          "output_type": "execute_result",
          "data": {
            "application/vnd.google.colaboratory.intrinsic+json": {
              "type": "string"
            },
            "text/plain": [
              "\"the word 'refuse' is pronounced differently when it is used as a verb and a noun. #learnenglish #esl #eal\""
            ]
          },
          "metadata": {
            "tags": []
          },
          "execution_count": 71
        }
      ]
    },
    {
      "cell_type": "markdown",
      "metadata": {
        "id": "EgVKHOjse0kZ"
      },
      "source": [
        "## SAVING THE MODEL"
      ]
    },
    {
      "cell_type": "code",
      "metadata": {
        "id": "jvzLQn2VXJEz"
      },
      "source": [
        "model_json1 = model.to_json()\n",
        "with open(\"model_final.json\", \"w\") as json_file:\n",
        "    json_file.write(model_json1)\n",
        "# serialize weights to HDF5\n",
        "model.save_weights(\"model_final.h5\")"
      ],
      "execution_count": null,
      "outputs": []
    },
    {
      "cell_type": "code",
      "metadata": {
        "colab": {
          "base_uri": "https://localhost:8080/"
        },
        "id": "PNrw9fwEOZ9O",
        "outputId": "52b1c13c-9c81-444a-8451-25c4a3705cf1"
      },
      "source": [
        "from keras.models import model_from_json \n",
        "\n",
        "# opening and store file in a variable\n",
        "\n",
        "json_file = open('model2.json','r')\n",
        "loaded_model_json = json_file.read()\n",
        "json_file.close()\n",
        "\n",
        "# use Keras model_from_json to make a loaded model\n",
        "\n",
        "loaded_model = model_from_json(loaded_model_json)\n",
        "\n",
        "# load weights into new model\n",
        "\n",
        "loaded_model.load_weights(\"model2.h5\")\n",
        "print(\"Loaded Model from disk\")\n",
        "\n",
        "# compile and evaluate loaded model\n",
        "\n",
        "loaded_model.compile(loss='categorical_crossentropy',optimizer='adam',metrics=['accuracy'])\n"
      ],
      "execution_count": null,
      "outputs": [
        {
          "output_type": "stream",
          "text": [
            "Loaded Model from disk\n"
          ],
          "name": "stdout"
        }
      ]
    },
    {
      "cell_type": "code",
      "metadata": {
        "colab": {
          "base_uri": "https://localhost:8080/",
          "height": 36
        },
        "id": "-6NEIul_mwgX",
        "outputId": "52717821-da73-454e-b1f4-f91cd4c41e9e"
      },
      "source": [
        "df[20]"
      ],
      "execution_count": null,
      "outputs": [
        {
          "output_type": "execute_result",
          "data": {
            "application/vnd.google.colaboratory.intrinsic+json": {
              "type": "string"
            },
            "text/plain": [
              "\"what do english speakers mean when they say 'time flies' or that they are 'in the nick of time'? #learnenglish #esl #eal\""
            ]
          },
          "metadata": {
            "tags": []
          },
          "execution_count": 36
        }
      ]
    },
    {
      "cell_type": "markdown",
      "metadata": {
        "id": "NnT_6hPke5Da"
      },
      "source": [
        "## PLOT TO COMPARE THE TRAIN TEST LOSSES"
      ]
    },
    {
      "cell_type": "code",
      "metadata": {
        "colab": {
          "base_uri": "https://localhost:8080/",
          "height": 483
        },
        "id": "Do22COn0niFt",
        "outputId": "75322c49-b869-4348-97b2-741533bb6e5e"
      },
      "source": [
        "from matplotlib import pyplot\n",
        "pyplot.figure(figsize = (11,8))\n",
        "pyplot.plot(history.history['loss'], label = 'train', color = 'green')\n",
        "pyplot.plot(history.history['val_loss'], label = 'test', color = 'blue')\n",
        "pyplot.legend()\n",
        "pyplot.show()"
      ],
      "execution_count": null,
      "outputs": [
        {
          "output_type": "display_data",
          "data": {
            "image/png": "[encoded data removed]",
            "text/plain": [
              "<Figure size 792x576 with 1 Axes>"
            ]
          },
          "metadata": {
            "tags": [],
            "needs_background": "light"
          }
        }
      ]
    },
    {
      "cell_type": "code",
      "metadata": {
        "colab": {
          "base_uri": "https://localhost:8080/",
          "height": 36
        },
        "id": "9vtNDY-4EPJu",
        "outputId": "a95a652d-92f4-44a1-9e54-4a0d087a4fdd"
      },
      "source": [
        "df[32]"
      ],
      "execution_count": null,
      "outputs": [
        {
          "output_type": "execute_result",
          "data": {
            "application/vnd.google.colaboratory.intrinsic+json": {
              "type": "string"
            },
            "text/plain": [
              "'what is the difference between loose and lose? are you lost when it comes to the differences between lose and loose? don’t lose out! we explain the differences. more: #learnenglish #esl #eal'"
            ]
          },
          "metadata": {
            "tags": []
          },
          "execution_count": 26
        }
      ]
    },
    {
      "cell_type": "code",
      "metadata": {
        "colab": {
          "base_uri": "https://localhost:8080/"
        },
        "id": "w-m2gPfLOKUq",
        "outputId": "79fe7e09-2a90-48cd-eb2e-304861870759"
      },
      "source": [
        "type(seed_text)"
      ],
      "execution_count": null,
      "outputs": [
        {
          "output_type": "execute_result",
          "data": {
            "text/plain": [
              "str"
            ]
          },
          "metadata": {
            "tags": []
          },
          "execution_count": 28
        }
      ]
    },
    {
      "cell_type": "code",
      "metadata": {
        "colab": {
          "base_uri": "https://localhost:8080/",
          "height": 53
        },
        "id": "wEtWjPhnY7Sv",
        "outputId": "f85324cd-4fd3-4f72-b763-c07098693a73"
      },
      "source": [
        "df[20]"
      ],
      "execution_count": null,
      "outputs": [
        {
          "output_type": "execute_result",
          "data": {
            "application/vnd.google.colaboratory.intrinsic+json": {
              "type": "string"
            },
            "text/plain": [
              "\"linguist professor roly sussex and a caller from queensland discuss whether 'batsman' is an appropriate word for a female cricketer and how can sportspeople be addressed in a gender-neutral way. #eal #esl #learnenglish\""
            ]
          },
          "metadata": {
            "tags": []
          },
          "execution_count": 31
        }
      ]
    },
    {
      "cell_type": "markdown",
      "metadata": {
        "id": "vKqO0WlyfGRw"
      },
      "source": [
        "## TESTING THE MODEL"
      ]
    },
    {
      "cell_type": "code",
      "metadata": {
        "id": "v4nt9uzocrUo"
      },
      "source": [
        "seed_text = \"what is the difference\"\n",
        "next_words = 25"
      ],
      "execution_count": null,
      "outputs": []
    },
    {
      "cell_type": "code",
      "metadata": {
        "colab": {
          "base_uri": "https://localhost:8080/"
        },
        "id": "Au25noVucXba",
        "outputId": "11235cf9-cb7b-4aad-c25f-53a67a032b17"
      },
      "source": [
        "for _ in range(next_words):\n",
        "    token_list = tokenizer.texts_to_sequences([seed_text])[0]\n",
        "    token_list = pad_sequences([token_list], maxlen=max_sequence_length - 1, padding='pre')\n",
        "    predicted = np.argmax(model.predict(token_list), axis=-1)\n",
        "    output_word = \"\"\n",
        "    for word, index in tokenizer.word_index.items():\n",
        "        if index == predicted:\n",
        "            output_word = word\n",
        "            break\n",
        "    seed_text += \" \" + output_word\n",
        "print(seed_text)"
      ],
      "execution_count": null,
      "outputs": [
        {
          "output_type": "stream",
          "text": [
            "what is the difference between loose and lose are you lost when it comes to the differences between lose and loose don’t lose out we explain the differences more learnenglish esl eal vocabulary is the missing word and why 🤔 learnenglish esl eal heywire learn more learnenglish esl eal vocabulary learnenglish esl vocabulary vocabulary is correct and why 🤔 learnenglish esl eal vocabulary learnenglish esl vocabulary vocabulary learnenglish esl vocabulary vocabulary is the missing word and why 🤔 learnenglish esl eal vocabulary learnenglish esl vocabulary vocabulary is correct and why 🤔 learnenglish esl eal vocabulary learnenglish esl vocabulary vocabulary vocabulary in this correct binomial\n"
          ],
          "name": "stdout"
        }
      ]
    },
    {
      "cell_type": "code",
      "metadata": {
        "colab": {
          "base_uri": "https://localhost:8080/",
          "height": 36
        },
        "id": "7NYNAMVNKopr",
        "outputId": "6f727ed5-8484-4d16-8fa8-b8f956c241ef"
      },
      "source": [
        "df[32]"
      ],
      "execution_count": null,
      "outputs": [
        {
          "output_type": "execute_result",
          "data": {
            "application/vnd.google.colaboratory.intrinsic+json": {
              "type": "string"
            },
            "text/plain": [
              "'what is the difference between loose and lose? are you lost when it comes to the differences between lose and loose? don’t lose out! we explain the differences. more: #learnenglish #esl #eal'"
            ]
          },
          "metadata": {
            "tags": []
          },
          "execution_count": 30
        }
      ]
    },
    {
      "cell_type": "markdown",
      "metadata": {
        "id": "7YuvKE2zfTM9"
      },
      "source": [
        "## METRIC USED FOR EVALUATION OF TEXT GENERATED TEXT IS ROUGE SCORE. "
      ]
    },
    {
      "cell_type": "markdown",
      "metadata": {
        "id": "sApds-3HfMtm"
      },
      "source": [
        "The Recall-Oriented Understudy for Gisting Evaluation (ROUGE) scoring algorithm calculates the similarity between a candidate document and a collection of reference documents. "
      ]
    },
    {
      "cell_type": "code",
      "metadata": {
        "id": "_Cq7O6YimiIp"
      },
      "source": [
        "from rouge_score import rouge_scorer\n",
        "scorer = rouge_scorer.RougeScorer(['rouge1', 'rougeL'], use_stemmer=True)\n",
        "scores = scorer.score('what is the difference between loose and lose? are you lost when it comes to the differences between lose and loose? don’t lose out! we explain the differences.',\n",
        "                      'what is the difference between loose and lose are you lost when it comes to the differences between lose and loose don’t lose out we explain the differences more.')"
      ],
      "execution_count": null,
      "outputs": []
    },
    {
      "cell_type": "code",
      "metadata": {
        "colab": {
          "base_uri": "https://localhost:8080/"
        },
        "id": "sfjD0v9GKzR0",
        "outputId": "91cb0f28-0633-4dca-8a60-e9d186fb68bf"
      },
      "source": [
        "scores"
      ],
      "execution_count": null,
      "outputs": [
        {
          "output_type": "execute_result",
          "data": {
            "text/plain": [
              "{'rouge1': Score(precision=0.9666666666666667, recall=1.0, fmeasure=0.983050847457627),\n",
              " 'rougeL': Score(precision=0.9666666666666667, recall=1.0, fmeasure=0.983050847457627)}"
            ]
          },
          "metadata": {
            "tags": []
          },
          "execution_count": 32
        }
      ]
    }
  ]
}